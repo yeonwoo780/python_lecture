{
 "cells": [
  {
   "cell_type": "markdown",
   "id": "949091e9",
   "metadata": {},
   "source": [
    "# 딕셔너리"
   ]
  },
  {
   "cell_type": "markdown",
   "id": "8160f32f",
   "metadata": {},
   "source": [
    " - {Key1:Value1, Key2:Value2, Key3:Value3, ...}"
   ]
  },
  {
   "cell_type": "code",
   "execution_count": 1,
   "id": "c47d33fb",
   "metadata": {},
   "outputs": [
    {
     "data": {
      "text/plain": [
       "dict"
      ]
     },
     "execution_count": 1,
     "metadata": {},
     "output_type": "execute_result"
    }
   ],
   "source": [
    "dic = {}\n",
    "type(dic)"
   ]
  },
  {
   "cell_type": "code",
   "execution_count": 2,
   "id": "ad015e2f",
   "metadata": {},
   "outputs": [
    {
     "data": {
      "text/plain": [
       "2"
      ]
     },
     "execution_count": 2,
     "metadata": {},
     "output_type": "execute_result"
    }
   ],
   "source": [
    "dic = {\"a\":\"b\", \"c\":\"d\"}\n",
    "len(dic)"
   ]
  },
  {
   "cell_type": "code",
   "execution_count": 3,
   "id": "f85de9fd",
   "metadata": {},
   "outputs": [
    {
     "data": {
      "text/plain": [
       "3"
      ]
     },
     "execution_count": 3,
     "metadata": {},
     "output_type": "execute_result"
    }
   ],
   "source": [
    "dic = {'name':'pey', 'phone':'0119993323', 'birth': '1118'}\n",
    "len(dic)"
   ]
  },
  {
   "cell_type": "markdown",
   "id": "6dfeacd8",
   "metadata": {},
   "source": [
    " - 딕셔너리 쌍 추가하기"
   ]
  },
  {
   "cell_type": "code",
   "execution_count": 4,
   "id": "4ec23d93",
   "metadata": {},
   "outputs": [
    {
     "data": {
      "text/plain": [
       "{1: 'a', 2: 'b'}"
      ]
     },
     "execution_count": 4,
     "metadata": {},
     "output_type": "execute_result"
    }
   ],
   "source": [
    "a = {1: 'a'}\n",
    "a[2] = 'b' # a['key깂'] = value값\n",
    "a"
   ]
  },
  {
   "cell_type": "markdown",
   "id": "5d156b27",
   "metadata": {},
   "source": [
    " - 딕셔너리 요소 삭제하기"
   ]
  },
  {
   "cell_type": "code",
   "execution_count": 6,
   "id": "1d39ca29",
   "metadata": {},
   "outputs": [
    {
     "data": {
      "text/plain": [
       "{1: 'a', 2: 'b', 'c': 1, 3: [1, 2, 3]}"
      ]
     },
     "execution_count": 6,
     "metadata": {},
     "output_type": "execute_result"
    }
   ],
   "source": [
    "a = {1: 'a', 2: 'b', 'c': 1, 3: [1, 2, 3]}\n",
    "a"
   ]
  },
  {
   "cell_type": "code",
   "execution_count": 7,
   "id": "4cba2f89",
   "metadata": {},
   "outputs": [
    {
     "data": {
      "text/plain": [
       "{2: 'b', 'c': 1, 3: [1, 2, 3]}"
      ]
     },
     "execution_count": 7,
     "metadata": {},
     "output_type": "execute_result"
    }
   ],
   "source": [
    "del a[1] # keyvalue = 1 값 삭제\n",
    "a"
   ]
  },
  {
   "cell_type": "markdown",
   "id": "836df851",
   "metadata": {},
   "source": [
    " - 딕셔너리에서 Key 사용해 Value 얻기"
   ]
  },
  {
   "cell_type": "code",
   "execution_count": 8,
   "id": "b72b23c3",
   "metadata": {},
   "outputs": [],
   "source": [
    "data_dic = {\"김연아\":\"피겨스케이팅\", \"류현진\":\"야구\", \"손흥민\":\"축구\", \"귀도\":\"파이썬\"}"
   ]
  },
  {
   "cell_type": "code",
   "execution_count": 9,
   "id": "afd53f70",
   "metadata": {},
   "outputs": [
    {
     "data": {
      "text/plain": [
       "'피겨스케이팅'"
      ]
     },
     "execution_count": 9,
     "metadata": {},
     "output_type": "execute_result"
    }
   ],
   "source": [
    "data_dic['김연아']"
   ]
  },
  {
   "cell_type": "markdown",
   "id": "4a7eb00c",
   "metadata": {},
   "source": [
    "# 딕셔너리 관련 함수들"
   ]
  },
  {
   "cell_type": "markdown",
   "id": "00910ae9",
   "metadata": {},
   "source": [
    " - Key 리스트 만들기(keys)"
   ]
  },
  {
   "cell_type": "code",
   "execution_count": 11,
   "id": "85983ae4",
   "metadata": {},
   "outputs": [
    {
     "data": {
      "text/plain": [
       "dict_keys(['김연아', '류현진', '손흥민', '귀도'])"
      ]
     },
     "execution_count": 11,
     "metadata": {},
     "output_type": "execute_result"
    }
   ],
   "source": [
    "data_dic = {\"김연아\":\"피겨스케이팅\", \"류현진\":\"야구\", \"손흥민\":\"축구\", \"귀도\":\"파이썬\"}\n",
    "data_dic.keys()"
   ]
  },
  {
   "cell_type": "code",
   "execution_count": 12,
   "id": "e59c1690",
   "metadata": {},
   "outputs": [
    {
     "data": {
      "text/plain": [
       "'김연아'"
      ]
     },
     "execution_count": 12,
     "metadata": {},
     "output_type": "execute_result"
    }
   ],
   "source": [
    "a = data_dic.keys()\n",
    "list(a)[0]"
   ]
  },
  {
   "cell_type": "markdown",
   "id": "d93fc40b",
   "metadata": {},
   "source": [
    " - Key, Value 쌍 얻기(items)"
   ]
  },
  {
   "cell_type": "code",
   "execution_count": 14,
   "id": "b1f22762",
   "metadata": {},
   "outputs": [
    {
     "data": {
      "text/plain": [
       "dict_items([('김연아', '피겨스케이팅'), ('류현진', '야구'), ('손흥민', '축구'), ('귀도', '파이썬')])"
      ]
     },
     "execution_count": 14,
     "metadata": {},
     "output_type": "execute_result"
    }
   ],
   "source": [
    "data_dic = {\"김연아\":\"피겨스케이팅\", \"류현진\":\"야구\", \"손흥민\":\"축구\", \"귀도\":\"파이썬\"}\n",
    "data_dic.items()"
   ]
  },
  {
   "cell_type": "code",
   "execution_count": 15,
   "id": "14c98bda",
   "metadata": {},
   "outputs": [
    {
     "data": {
      "text/plain": [
       "[('김연아', '피겨스케이팅'), ('류현진', '야구'), ('손흥민', '축구'), ('귀도', '파이썬')]"
      ]
     },
     "execution_count": 15,
     "metadata": {},
     "output_type": "execute_result"
    }
   ],
   "source": [
    "list(data_dic.items())"
   ]
  },
  {
   "cell_type": "code",
   "execution_count": 18,
   "id": "788cbbe4",
   "metadata": {},
   "outputs": [
    {
     "data": {
      "text/plain": [
       "('김연아', '피겨스케이팅')"
      ]
     },
     "execution_count": 18,
     "metadata": {},
     "output_type": "execute_result"
    }
   ],
   "source": [
    "list(data_dic.items())[0]"
   ]
  },
  {
   "cell_type": "code",
   "execution_count": 19,
   "id": "b7716d02",
   "metadata": {},
   "outputs": [
    {
     "data": {
      "text/plain": [
       "tuple"
      ]
     },
     "execution_count": 19,
     "metadata": {},
     "output_type": "execute_result"
    }
   ],
   "source": [
    "type(list(data_dic.items())[0])"
   ]
  },
  {
   "cell_type": "code",
   "execution_count": 20,
   "id": "d5cbcc6c",
   "metadata": {},
   "outputs": [
    {
     "data": {
      "text/plain": [
       "{'김연아': '피겨스케이팅', '류현진': '야구', '손흥민': '축구', '귀도': '파이썬'}"
      ]
     },
     "execution_count": 20,
     "metadata": {},
     "output_type": "execute_result"
    }
   ],
   "source": [
    "dict([('김연아', '피겨스케이팅'), ('류현진', '야구'), ('손흥민', '축구'), ('귀도', '파이썬')])"
   ]
  },
  {
   "cell_type": "markdown",
   "id": "746c473e",
   "metadata": {},
   "source": [
    " - Key: Value 쌍 모두 지우기(clear)"
   ]
  },
  {
   "cell_type": "code",
   "execution_count": 21,
   "id": "73b3c146",
   "metadata": {},
   "outputs": [],
   "source": [
    "data_dic = {\"김연아\":\"피겨스케이팅\", \"류현진\":\"야구\", \"손흥민\":\"축구\", \"귀도\":\"파이썬\"}\n",
    "data_dic.clear()"
   ]
  },
  {
   "cell_type": "code",
   "execution_count": 22,
   "id": "69e6fec3",
   "metadata": {},
   "outputs": [
    {
     "data": {
      "text/plain": [
       "{}"
      ]
     },
     "execution_count": 22,
     "metadata": {},
     "output_type": "execute_result"
    }
   ],
   "source": [
    "data_dic # 빈 딕셔너리만 남음"
   ]
  },
  {
   "cell_type": "markdown",
   "id": "dcb5c563",
   "metadata": {},
   "source": [
    " - Key로 Value얻기(get)"
   ]
  },
  {
   "cell_type": "code",
   "execution_count": 23,
   "id": "0e27ceaa",
   "metadata": {},
   "outputs": [
    {
     "data": {
      "text/plain": [
       "'축구'"
      ]
     },
     "execution_count": 23,
     "metadata": {},
     "output_type": "execute_result"
    }
   ],
   "source": [
    "data_dic = {\"김연아\":\"피겨스케이팅\", \"류현진\":\"야구\", \"손흥민\":\"축구\", \"귀도\":\"파이썬\"}\n",
    "data_dic.get('손흥민')"
   ]
  },
  {
   "cell_type": "code",
   "execution_count": 24,
   "id": "22f82b38",
   "metadata": {},
   "outputs": [
    {
     "name": "stdout",
     "output_type": "stream",
     "text": [
      "None\n"
     ]
    }
   ],
   "source": [
    "d = data_dic.get('귀도반로섬')\n",
    "print(d)"
   ]
  },
  {
   "cell_type": "markdown",
   "id": "b789ced5",
   "metadata": {},
   "source": [
    " - 해당 Key가 딕셔너리 안에 있는지 조사하기(in)"
   ]
  },
  {
   "cell_type": "code",
   "execution_count": 25,
   "id": "23cd91f4",
   "metadata": {},
   "outputs": [
    {
     "data": {
      "text/plain": [
       "True"
      ]
     },
     "execution_count": 25,
     "metadata": {},
     "output_type": "execute_result"
    }
   ],
   "source": [
    "data_dic = {\"김연아\":\"피겨스케이팅\", \"류현진\":\"야구\", \"손흥민\":\"축구\", \"귀도\":\"파이썬\"}\n",
    "\"류현진\" in data_dic"
   ]
  },
  {
   "cell_type": "code",
   "execution_count": 26,
   "id": "ce283f88",
   "metadata": {},
   "outputs": [
    {
     "data": {
      "text/plain": [
       "{'김연아': '피겨스케이팅', '류현진': '야구', '손흥민': '축구', '귀도': '파이썬', '귀도반로섬': '게임왕'}"
      ]
     },
     "execution_count": 26,
     "metadata": {},
     "output_type": "execute_result"
    }
   ],
   "source": [
    "data_dic = {\"김연아\":\"피겨스케이팅\", \"류현진\":\"야구\", \"손흥민\":\"축구\", \"귀도\":\"파이썬\"}\n",
    "key_name = ['김연아', '류현진', '손흥민', '귀도', '귀도반로섬']\n",
    "if \"귀도반로섬\" not in data_dic:\n",
    "    name = \"귀도반로섬\"\n",
    "    data_dic[name] = '게임왕'\n",
    "        \n",
    "data_dic"
   ]
  },
  {
   "cell_type": "code",
   "execution_count": 28,
   "id": "68290c8b",
   "metadata": {},
   "outputs": [
    {
     "data": {
      "text/plain": [
       "{'김연아': '피겨스케이팅',\n",
       " '류현진': '야구',\n",
       " '손흥민': '축구',\n",
       " '귀도': '파이썬',\n",
       " '귀도반로섬': '게임왕',\n",
       " 'byi': '게임왕'}"
      ]
     },
     "execution_count": 28,
     "metadata": {},
     "output_type": "execute_result"
    }
   ],
   "source": [
    "data_dic = {\"김연아\":\"피겨스케이팅\", \"류현진\":\"야구\", \"손흥민\":\"축구\", \"귀도\":\"파이썬\"}\n",
    "key_name = ['김연아', '류현진', '손흥민', '귀도', '귀도반로섬','byi']\n",
    "for name in key_name:\n",
    "    values = data_dic.get(name)\n",
    "    if values == None:\n",
    "        data_dic[name] = '게임왕'\n",
    "        \n",
    "data_dic"
   ]
  },
  {
   "cell_type": "code",
   "execution_count": 54,
   "id": "56651a63",
   "metadata": {},
   "outputs": [
    {
     "data": {
      "text/plain": [
       "{'김연아': '피겨스케이팅',\n",
       " '류현진': '야구',\n",
       " '손흥민': '축구',\n",
       " '귀도': '파이썬',\n",
       " '귀도반로섬': '게임왕',\n",
       " 'byi': '게임왕'}"
      ]
     },
     "execution_count": 54,
     "metadata": {},
     "output_type": "execute_result"
    }
   ],
   "source": [
    "data_dic = {\"김연아\":\"피겨스케이팅\", \"류현진\":\"야구\", \"손흥민\":\"축구\", \"귀도\":\"파이썬\"}\n",
    "key_name = ['김연아', '류현진', '손흥민', '귀도', '귀도반로섬','byi']\n",
    "for name in key_name:\n",
    "    values = data_dic.get(name)\n",
    "    \n",
    "    if values not in data_dic.values():\n",
    "        data_dic[name] = '게임왕'\n",
    "        \n",
    "data_dic        "
   ]
  },
  {
   "cell_type": "code",
   "execution_count": 55,
   "id": "119d00f9",
   "metadata": {},
   "outputs": [
    {
     "data": {
      "text/plain": [
       "['j', 'u', 'n', 'g']"
      ]
     },
     "execution_count": 55,
     "metadata": {},
     "output_type": "execute_result"
    }
   ],
   "source": [
    "a = \"j,u,n,g\".split(',')\n",
    "a"
   ]
  },
  {
   "cell_type": "markdown",
   "id": "60a42cfa",
   "metadata": {},
   "source": [
    "## 집합 자료형은 어떻게 만들까?"
   ]
  },
  {
   "cell_type": "code",
   "execution_count": 56,
   "id": "70c0dad3",
   "metadata": {},
   "outputs": [
    {
     "data": {
      "text/plain": [
       "{'H', 'e', 'l', 'o'}"
      ]
     },
     "execution_count": 56,
     "metadata": {},
     "output_type": "execute_result"
    }
   ],
   "source": [
    "s2 = set(\"Hello\")\n",
    "s2"
   ]
  },
  {
   "cell_type": "code",
   "execution_count": null,
   "id": "9634431f",
   "metadata": {},
   "outputs": [],
   "source": []
  }
 ],
 "metadata": {
  "kernelspec": {
   "display_name": "Python 3",
   "language": "python",
   "name": "python3"
  },
  "language_info": {
   "codemirror_mode": {
    "name": "ipython",
    "version": 3
   },
   "file_extension": ".py",
   "mimetype": "text/x-python",
   "name": "python",
   "nbconvert_exporter": "python",
   "pygments_lexer": "ipython3",
   "version": "3.8.6"
  }
 },
 "nbformat": 4,
 "nbformat_minor": 5
}
