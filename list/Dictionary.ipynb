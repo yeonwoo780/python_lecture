{
 "cells": [
  {
   "cell_type": "markdown",
   "id": "64bf0fd6",
   "metadata": {},
   "source": [
    "# 딕셔너리\n",
    " * <h3>{Key1:Value1, Key2:Value2, Key3:Value3, ...}</h3>"
   ]
  },
  {
   "cell_type": "code",
   "execution_count": 1,
   "id": "edd52117",
   "metadata": {},
   "outputs": [
    {
     "data": {
      "text/plain": [
       "dict"
      ]
     },
     "execution_count": 1,
     "metadata": {},
     "output_type": "execute_result"
    }
   ],
   "source": [
    "dic = {}\n",
    "type(dic)\n"
   ]
  },
  {
   "cell_type": "code",
   "execution_count": 2,
   "id": "c8da676f",
   "metadata": {},
   "outputs": [
    {
     "data": {
      "text/plain": [
       "2"
      ]
     },
     "execution_count": 2,
     "metadata": {},
     "output_type": "execute_result"
    }
   ],
   "source": [
    "dic = {\"a\":\"b\", \"c\":\"d\"}\n",
    "len(dic)"
   ]
  },
  {
   "cell_type": "code",
   "execution_count": 3,
   "id": "a0f2b672",
   "metadata": {},
   "outputs": [
    {
     "data": {
      "text/plain": [
       "3"
      ]
     },
     "execution_count": 3,
     "metadata": {},
     "output_type": "execute_result"
    }
   ],
   "source": [
    "dic = {'name':'pey', 'phone':'0119993323', 'birth': '1118'}\n",
    "len(dic)"
   ]
  },
  {
   "cell_type": "markdown",
   "id": "603ba143",
   "metadata": {},
   "source": [
    " - <h3>딕셔너리 쌍 추가하기</h3>"
   ]
  },
  {
   "cell_type": "code",
   "execution_count": 4,
   "id": "f1ccfd9f",
   "metadata": {},
   "outputs": [
    {
     "data": {
      "text/plain": [
       "{1: 'a', 2: 'b'}"
      ]
     },
     "execution_count": 4,
     "metadata": {},
     "output_type": "execute_result"
    }
   ],
   "source": [
    "a = {1: 'a'}\n",
    "a[2] = 'b'\n",
    "a"
   ]
  },
  {
   "cell_type": "code",
   "execution_count": 5,
   "id": "b655b2e6",
   "metadata": {},
   "outputs": [
    {
     "data": {
      "text/plain": [
       "1"
      ]
     },
     "execution_count": 5,
     "metadata": {},
     "output_type": "execute_result"
    }
   ],
   "source": [
    "a['c'] =1\n",
    "a['c']"
   ]
  },
  {
   "cell_type": "code",
   "execution_count": 6,
   "id": "9eea50a2",
   "metadata": {},
   "outputs": [
    {
     "data": {
      "text/plain": [
       "{1: 'a', 2: 'b', 'c': 1, 3: [1, 2, 3]}"
      ]
     },
     "execution_count": 6,
     "metadata": {},
     "output_type": "execute_result"
    }
   ],
   "source": [
    "a[3] = [1, 2, 3]\n",
    "a"
   ]
  },
  {
   "cell_type": "markdown",
   "id": "3c8b15e9",
   "metadata": {},
   "source": [
    " - <h3>딕셔너리 요소 삭제하기</h3>"
   ]
  },
  {
   "cell_type": "code",
   "execution_count": 7,
   "id": "654d99cf",
   "metadata": {},
   "outputs": [],
   "source": [
    "a = {1: 'a', 2: 'b', 'c': 1, 3: [1, 2, 3]}"
   ]
  },
  {
   "cell_type": "code",
   "execution_count": 8,
   "id": "943b6d78",
   "metadata": {},
   "outputs": [
    {
     "data": {
      "text/plain": [
       "{2: 'b', 'c': 1, 3: [1, 2, 3]}"
      ]
     },
     "execution_count": 8,
     "metadata": {},
     "output_type": "execute_result"
    }
   ],
   "source": [
    "del a[1]\n",
    "a"
   ]
  },
  {
   "cell_type": "markdown",
   "id": "6716080d",
   "metadata": {},
   "source": [
    " - <h3>딕셔너리에서 Key 사용해 Value 얻기</h3>"
   ]
  },
  {
   "cell_type": "code",
   "execution_count": 9,
   "id": "0a0701e9",
   "metadata": {},
   "outputs": [],
   "source": [
    "data_dic = {\"김연아\":\"피겨스케이팅\", \"류현진\":\"야구\", \"손흥민\":\"축구\", \"귀도\":\"파이썬\"}"
   ]
  },
  {
   "cell_type": "code",
   "execution_count": 10,
   "id": "cfc89107",
   "metadata": {},
   "outputs": [
    {
     "data": {
      "text/plain": [
       "'피겨스케이팅'"
      ]
     },
     "execution_count": 10,
     "metadata": {},
     "output_type": "execute_result"
    }
   ],
   "source": [
    "data_dic['김연아']"
   ]
  },
  {
   "cell_type": "markdown",
   "id": "32ff6713",
   "metadata": {},
   "source": [
    "## 딕셔너리 관련 함수들"
   ]
  },
  {
   "cell_type": "markdown",
   "id": "2b4035c4",
   "metadata": {},
   "source": [
    " - <h3>Key 리스트 만들기(keys)</h3>"
   ]
  },
  {
   "cell_type": "code",
   "execution_count": 11,
   "id": "cdaf56f4",
   "metadata": {},
   "outputs": [
    {
     "data": {
      "text/plain": [
       "'김연아'"
      ]
     },
     "execution_count": 11,
     "metadata": {},
     "output_type": "execute_result"
    }
   ],
   "source": [
    "data_dic = {\"김연아\":\"피겨스케이팅\", \"류현진\":\"야구\", \"손흥민\":\"축구\", \"귀도\":\"파이썬\"}\n",
    "data_dic.keys()\n",
    "a = data_dic.keys()\n",
    "list(a)[0]\n"
   ]
  },
  {
   "cell_type": "markdown",
   "id": "3912f74f",
   "metadata": {},
   "source": [
    " - <h3>Value 리스트 만들기(values)</h3>"
   ]
  },
  {
   "cell_type": "code",
   "execution_count": 12,
   "id": "0c0eddb5",
   "metadata": {},
   "outputs": [
    {
     "data": {
      "text/plain": [
       "dict_values(['피겨스케이팅', '야구', '축구', '파이썬'])"
      ]
     },
     "execution_count": 12,
     "metadata": {},
     "output_type": "execute_result"
    }
   ],
   "source": [
    "data_dic = {\"김연아\":\"피겨스케이팅\", \"류현진\":\"야구\", \"손흥민\":\"축구\", \"귀도\":\"파이썬\"}\n",
    "data_dic.values()"
   ]
  },
  {
   "cell_type": "code",
   "execution_count": 13,
   "id": "5abe17f1",
   "metadata": {},
   "outputs": [
    {
     "data": {
      "text/plain": [
       "['피겨스케이팅', '야구', '축구', '파이썬']"
      ]
     },
     "execution_count": 13,
     "metadata": {},
     "output_type": "execute_result"
    }
   ],
   "source": [
    "list(data_dic.values())"
   ]
  },
  {
   "cell_type": "markdown",
   "id": "1aac921b",
   "metadata": {},
   "source": [
    " - <h3>Key, Value 쌍 얻기(items)</h3>"
   ]
  },
  {
   "cell_type": "code",
   "execution_count": 14,
   "id": "cfc27391",
   "metadata": {},
   "outputs": [
    {
     "data": {
      "text/plain": [
       "dict_items([('김연아', '피겨스케이팅'), ('류현진', '야구'), ('손흥민', '축구'), ('귀도', '파이썬')])"
      ]
     },
     "execution_count": 14,
     "metadata": {},
     "output_type": "execute_result"
    }
   ],
   "source": [
    "data_dic = {\"김연아\":\"피겨스케이팅\", \"류현진\":\"야구\", \"손흥민\":\"축구\", \"귀도\":\"파이썬\"}\n",
    "data_dic.items()"
   ]
  },
  {
   "cell_type": "code",
   "execution_count": 15,
   "id": "9e109c37",
   "metadata": {},
   "outputs": [
    {
     "data": {
      "text/plain": [
       "[('김연아', '피겨스케이팅'), ('류현진', '야구'), ('손흥민', '축구'), ('귀도', '파이썬')]"
      ]
     },
     "execution_count": 15,
     "metadata": {},
     "output_type": "execute_result"
    }
   ],
   "source": [
    "list(data_dic.items())"
   ]
  },
  {
   "cell_type": "code",
   "execution_count": 16,
   "id": "20cb254a",
   "metadata": {},
   "outputs": [
    {
     "data": {
      "text/plain": [
       "('김연아', '피겨스케이팅')"
      ]
     },
     "execution_count": 16,
     "metadata": {},
     "output_type": "execute_result"
    }
   ],
   "source": [
    "list(data_dic.items())[0]"
   ]
  },
  {
   "cell_type": "code",
   "execution_count": 17,
   "id": "6492df7a",
   "metadata": {},
   "outputs": [
    {
     "data": {
      "text/plain": [
       "tuple"
      ]
     },
     "execution_count": 17,
     "metadata": {},
     "output_type": "execute_result"
    }
   ],
   "source": [
    "type(list(data_dic.items())[0])"
   ]
  },
  {
   "cell_type": "code",
   "execution_count": 18,
   "id": "0d794e5d",
   "metadata": {},
   "outputs": [
    {
     "data": {
      "text/plain": [
       "{'김연아': '피겨스케이팅', '류현진': '야구', '손흥민': '축구', '귀도': '파이썬'}"
      ]
     },
     "execution_count": 18,
     "metadata": {},
     "output_type": "execute_result"
    }
   ],
   "source": [
    "dict([('김연아', '피겨스케이팅'), ('류현진', '야구'), ('손흥민', '축구'), ('귀도', '파이썬')])"
   ]
  },
  {
   "cell_type": "markdown",
   "id": "7a004e11",
   "metadata": {},
   "source": [
    " - <h3>Key: Value 쌍 모두 지우기(clear)</h3>"
   ]
  },
  {
   "cell_type": "code",
   "execution_count": 19,
   "id": "014e169c",
   "metadata": {},
   "outputs": [],
   "source": [
    "data_dic = {\"김연아\":\"피겨스케이팅\", \"류현진\":\"야구\", \"손흥민\":\"축구\", \"귀도\":\"파이썬\"}\n",
    "data_dic.clear()"
   ]
  },
  {
   "cell_type": "code",
   "execution_count": 20,
   "id": "14bd3881",
   "metadata": {},
   "outputs": [
    {
     "data": {
      "text/plain": [
       "{}"
      ]
     },
     "execution_count": 20,
     "metadata": {},
     "output_type": "execute_result"
    }
   ],
   "source": [
    "data_dic # 빈 딕셔너리만 남음"
   ]
  },
  {
   "cell_type": "markdown",
   "id": "d4343cc1",
   "metadata": {},
   "source": [
    " - <h3>Key로 Value얻기(get)</h3>"
   ]
  },
  {
   "cell_type": "code",
   "execution_count": 21,
   "id": "98297ea2",
   "metadata": {},
   "outputs": [
    {
     "data": {
      "text/plain": [
       "'축구'"
      ]
     },
     "execution_count": 21,
     "metadata": {},
     "output_type": "execute_result"
    }
   ],
   "source": [
    "data_dic = {\"김연아\":\"피겨스케이팅\", \"류현진\":\"야구\", \"손흥민\":\"축구\", \"귀도\":\"파이썬\"}\n",
    "data_dic.get('손흥민')"
   ]
  },
  {
   "cell_type": "code",
   "execution_count": 22,
   "id": "54cc9c45",
   "metadata": {},
   "outputs": [
    {
     "name": "stdout",
     "output_type": "stream",
     "text": [
      "None\n"
     ]
    }
   ],
   "source": [
    "d = data_dic.get('귀도반로섬')\n",
    "print(d)"
   ]
  },
  {
   "cell_type": "markdown",
   "id": "bb85ba36",
   "metadata": {},
   "source": [
    " - <h3>해당 Key가 딕셔너리 안에 있는지 조사하기(in)</h3>"
   ]
  },
  {
   "cell_type": "code",
   "execution_count": 24,
   "id": "6a09bf43",
   "metadata": {},
   "outputs": [
    {
     "data": {
      "text/plain": [
       "True"
      ]
     },
     "execution_count": 24,
     "metadata": {},
     "output_type": "execute_result"
    }
   ],
   "source": [
    "data_dic = {\"김연아\":\"피겨스케이팅\", \"류현진\":\"야구\", \"손흥민\":\"축구\", \"귀도\":\"파이썬\"}\n",
    "\"류현진\" in data_dic"
   ]
  },
  {
   "cell_type": "code",
   "execution_count": 27,
   "id": "f2dcb1a9",
   "metadata": {},
   "outputs": [
    {
     "data": {
      "text/plain": [
       "{'김연아': '피겨스케이팅', '류현진': '야구', '손흥민': '축구', '귀도': '파이썬', '귀도반로섬': '게임왕'}"
      ]
     },
     "execution_count": 27,
     "metadata": {},
     "output_type": "execute_result"
    }
   ],
   "source": [
    "data_dic = {\"김연아\":\"피겨스케이팅\", \"류현진\":\"야구\", \"손흥민\":\"축구\", \"귀도\":\"파이썬\"}\n",
    "key_name = ['김연아', '류현진', '손흥민', '귀도', '귀도반로섬']\n",
    "if \"귀도반로섬\" not in data_dic:\n",
    "    name = \"귀도반로섬\"\n",
    "    data_dic[name] = '게임왕'\n",
    "        \n",
    "data_dic"
   ]
  },
  {
   "cell_type": "code",
   "execution_count": 30,
   "id": "9ae55e36",
   "metadata": {},
   "outputs": [
    {
     "data": {
      "text/plain": [
       "{'김연아': '게임왕',\n",
       " '류현진': '게임왕',\n",
       " '손흥민': '게임왕',\n",
       " '귀도': '게임왕',\n",
       " '귀도반로섬': '게임왕',\n",
       " 'hi': '게임왕'}"
      ]
     },
     "execution_count": 30,
     "metadata": {},
     "output_type": "execute_result"
    }
   ],
   "source": [
    "data_dic = {\"김연아\":\"피겨스케이팅\", \"류현진\":\"야구\", \"손흥민\":\"축구\", \"귀도\":\"파이썬\"}\n",
    "key_name = ['김연아', '류현진', '손흥민', '귀도', '귀도반로섬','hi']\n",
    "for name in key_name:\n",
    "    values = data_dic.get(name)\n",
    "    if values not in data_dic:\n",
    "        data_dic[name] = '게임왕'\n",
    "        \n",
    "data_dic"
   ]
  },
  {
   "cell_type": "code",
   "execution_count": 31,
   "id": "3f0bc8cc",
   "metadata": {},
   "outputs": [
    {
     "data": {
      "text/plain": [
       "{'김연아': '피겨스케이팅',\n",
       " '류현진': '야구',\n",
       " '손흥민': '축구',\n",
       " '귀도': '파이썬',\n",
       " '귀도반로섬': '게임왕',\n",
       " 'byi': '게임왕'}"
      ]
     },
     "execution_count": 31,
     "metadata": {},
     "output_type": "execute_result"
    }
   ],
   "source": [
    "data_dic = {\"김연아\":\"피겨스케이팅\", \"류현진\":\"야구\", \"손흥민\":\"축구\", \"귀도\":\"파이썬\"}\n",
    "key_name = ['김연아', '류현진', '손흥민', '귀도', '귀도반로섬','byi']\n",
    "for name in key_name:\n",
    "    values = data_dic.get(name)\n",
    "    if values == None:\n",
    "        data_dic[name] = '게임왕'\n",
    "        \n",
    "data_dic\n"
   ]
  },
  {
   "cell_type": "code",
   "execution_count": null,
   "id": "872e0b82",
   "metadata": {},
   "outputs": [],
   "source": [
    "a = \"j,u,n,g\".split(',')\n",
    "a"
   ]
  },
  {
   "cell_type": "markdown",
   "id": "eb020fd7",
   "metadata": {},
   "source": [
    "## 집합 자료형은 어떻게 만들까?"
   ]
  },
  {
   "cell_type": "code",
   "execution_count": null,
   "id": "4c15912a",
   "metadata": {},
   "outputs": [],
   "source": [
    "s2 = set(\"Hello\")\n",
    "s2"
   ]
  },
  {
   "cell_type": "code",
   "execution_count": null,
   "id": "ba0b4b08",
   "metadata": {},
   "outputs": [],
   "source": []
  }
 ],
 "metadata": {
  "kernelspec": {
   "display_name": "Python 3",
   "language": "python",
   "name": "python3"
  },
  "language_info": {
   "codemirror_mode": {
    "name": "ipython",
    "version": 3
   },
   "file_extension": ".py",
   "mimetype": "text/x-python",
   "name": "python",
   "nbconvert_exporter": "python",
   "pygments_lexer": "ipython3",
   "version": "3.8.9"
  }
 },
 "nbformat": 4,
 "nbformat_minor": 5
}
