{
 "cells": [
  {
   "cell_type": "markdown",
   "id": "abc5a88f",
   "metadata": {},
   "source": [
    "# list"
   ]
  },
  {
   "cell_type": "code",
   "execution_count": 1,
   "id": "7fd3825d",
   "metadata": {},
   "outputs": [
    {
     "data": {
      "text/plain": [
       "[11, 22, 33, 44, 55, 66]"
      ]
     },
     "execution_count": 1,
     "metadata": {},
     "output_type": "execute_result"
    }
   ],
   "source": [
    "n_list = [11, 22, 33, 44, 55, 66]\n",
    "n_list"
   ]
  },
  {
   "cell_type": "markdown",
   "id": "a9e50cb5",
   "metadata": {},
   "source": [
    " - <h3>리스트의 인덱싱과 슬라이싱</h3>"
   ]
  },
  {
   "cell_type": "code",
   "execution_count": 2,
   "id": "8e55f11a",
   "metadata": {},
   "outputs": [
    {
     "data": {
      "text/plain": [
       "4"
      ]
     },
     "execution_count": 2,
     "metadata": {},
     "output_type": "execute_result"
    }
   ],
   "source": [
    "a = [1, 2, 3]\n",
    "a[0] + a[2]# 휘발성 "
   ]
  },
  {
   "cell_type": "code",
   "execution_count": 3,
   "id": "f1fc251c",
   "metadata": {},
   "outputs": [
    {
     "data": {
      "text/plain": [
       "1"
      ]
     },
     "execution_count": 3,
     "metadata": {},
     "output_type": "execute_result"
    }
   ],
   "source": [
    "a[0]"
   ]
  },
  {
   "cell_type": "code",
   "execution_count": 4,
   "id": "69d52cdb",
   "metadata": {},
   "outputs": [
    {
     "data": {
      "text/plain": [
       "'c'"
      ]
     },
     "execution_count": 4,
     "metadata": {},
     "output_type": "execute_result"
    }
   ],
   "source": [
    "# list 안에 list 가능\n",
    "a = [1, 2, 3, ['a', 'b', 'c']]\n",
    "a[3][2]"
   ]
  },
  {
   "cell_type": "markdown",
   "id": "a29ab7e5",
   "metadata": {},
   "source": [
    " - <h3>삼중 리스트에서 인덱싱하기</h3>"
   ]
  },
  {
   "cell_type": "code",
   "execution_count": 7,
   "id": "dbb734c2",
   "metadata": {},
   "outputs": [
    {
     "name": "stdout",
     "output_type": "stream",
     "text": [
      "Life Life\n"
     ]
    }
   ],
   "source": [
    "a = [1, 2, ['a', 'b', ['Life', 'is']]]\n",
    "b = a[2]\n",
    "c = b[2]\n",
    "print(c[0], a[2][2][0])"
   ]
  },
  {
   "cell_type": "markdown",
   "id": "0e59022a",
   "metadata": {},
   "source": [
    " - <h3>음수 인덱싱</h3>"
   ]
  },
  {
   "cell_type": "code",
   "execution_count": 9,
   "id": "88301a28",
   "metadata": {},
   "outputs": [
    {
     "data": {
      "text/plain": [
       "'a'"
      ]
     },
     "execution_count": 9,
     "metadata": {},
     "output_type": "execute_result"
    }
   ],
   "source": [
    "# 'a'를 음수 인덱싱 이용해서 찾는다.\n",
    "a = [1, 2, 3, ['a', 'b', 'c']]\n",
    "a[-1][-3]"
   ]
  },
  {
   "cell_type": "markdown",
   "id": "91e19d2c",
   "metadata": {},
   "source": [
    " - <h3>리스트의 슬라이싱</h3>"
   ]
  },
  {
   "cell_type": "code",
   "execution_count": 10,
   "id": "68f556bd",
   "metadata": {},
   "outputs": [
    {
     "data": {
      "text/plain": [
       "[1, 2, 3]"
      ]
     },
     "execution_count": 10,
     "metadata": {},
     "output_type": "execute_result"
    }
   ],
   "source": [
    "a = [1, 2, 3, 4, 5]\n",
    "a[0:3]"
   ]
  },
  {
   "cell_type": "code",
   "execution_count": 11,
   "id": "1689d2c7",
   "metadata": {},
   "outputs": [
    {
     "name": "stdout",
     "output_type": "stream",
     "text": [
      "[1, 2] [3, 4, 5]\n"
     ]
    }
   ],
   "source": [
    "b = a[:2]\n",
    "c = a[2:]\n",
    "print(b, c)"
   ]
  },
  {
   "cell_type": "markdown",
   "id": "e84224f5",
   "metadata": {},
   "source": [
    " - <h3>중첩된 리스트에서 슬라이싱하기</h3>"
   ]
  },
  {
   "cell_type": "code",
   "execution_count": 12,
   "id": "bdaafc74",
   "metadata": {},
   "outputs": [
    {
     "data": {
      "text/plain": [
       "[3, ['a', 'b', 'c'], 4]"
      ]
     },
     "execution_count": 12,
     "metadata": {},
     "output_type": "execute_result"
    }
   ],
   "source": [
    "a = [1, 2, 3, ['a', 'b', 'c'], 4, 5]\n",
    "a[2:5]"
   ]
  },
  {
   "cell_type": "code",
   "execution_count": 13,
   "id": "8c0e4d29",
   "metadata": {},
   "outputs": [
    {
     "data": {
      "text/plain": [
       "['a', 'b']"
      ]
     },
     "execution_count": 13,
     "metadata": {},
     "output_type": "execute_result"
    }
   ],
   "source": [
    "a[3][:2]"
   ]
  },
  {
   "cell_type": "markdown",
   "id": "12608ab7",
   "metadata": {},
   "source": [
    " - <h3>리스트의 음수 슬라이딩</h3>"
   ]
  },
  {
   "cell_type": "code",
   "execution_count": 15,
   "id": "9bd91d1a",
   "metadata": {},
   "outputs": [
    {
     "data": {
      "text/plain": [
       "[3, 4]"
      ]
     },
     "execution_count": 15,
     "metadata": {},
     "output_type": "execute_result"
    }
   ],
   "source": [
    "\n",
    "a = [1, 2, 3, 4, 5]\n",
    "a[-3: -1]"
   ]
  },
  {
   "cell_type": "code",
   "execution_count": 16,
   "id": "8ff6630f",
   "metadata": {},
   "outputs": [
    {
     "data": {
      "text/plain": [
       "[2, 3, 4, 5]"
      ]
     },
     "execution_count": 16,
     "metadata": {},
     "output_type": "execute_result"
    }
   ],
   "source": [
    "a[-4:]"
   ]
  },
  {
   "cell_type": "markdown",
   "id": "6e96fe7a",
   "metadata": {},
   "source": [
    " - <h3>리스트 연산하기</h3>"
   ]
  },
  {
   "cell_type": "code",
   "execution_count": 17,
   "id": "e6d071b9",
   "metadata": {},
   "outputs": [
    {
     "data": {
      "text/plain": [
       "[1, 2, 3, 4, 5, 6]"
      ]
     },
     "execution_count": 17,
     "metadata": {},
     "output_type": "execute_result"
    }
   ],
   "source": [
    "# 리스트 더하기(+)\n",
    "a = [1, 2, 3]\n",
    "b = [4, 5, 6]\n",
    "a + b"
   ]
  },
  {
   "cell_type": "code",
   "execution_count": 18,
   "id": "c7341722",
   "metadata": {},
   "outputs": [
    {
     "data": {
      "text/plain": [
       "[1, 2, 3, 1, 2, 3, 1, 2, 3]"
      ]
     },
     "execution_count": 18,
     "metadata": {},
     "output_type": "execute_result"
    }
   ],
   "source": [
    "# 리스트 반복하기(*)\n",
    "a = [1, 2, 3]\n",
    "a * 3"
   ]
  },
  {
   "cell_type": "code",
   "execution_count": 19,
   "id": "a93df056",
   "metadata": {},
   "outputs": [
    {
     "data": {
      "text/plain": [
       "3"
      ]
     },
     "execution_count": 19,
     "metadata": {},
     "output_type": "execute_result"
    }
   ],
   "source": [
    "# 리스트 길이구하기\n",
    "a = [1, 2, 3]\n",
    "len(a)"
   ]
  },
  {
   "cell_type": "markdown",
   "id": "2deedcb6",
   "metadata": {},
   "source": [
    "## 리스트의 수정과 삭제"
   ]
  },
  {
   "cell_type": "code",
   "execution_count": 20,
   "id": "f1d27369",
   "metadata": {},
   "outputs": [
    {
     "data": {
      "text/plain": [
       "[1, 3]"
      ]
     },
     "execution_count": 20,
     "metadata": {},
     "output_type": "execute_result"
    }
   ],
   "source": [
    "#del 키워드 사용해 리스트 요소 삭제하기\n",
    "a = [1, 2, 3]\n",
    "del a[1]\n",
    "a"
   ]
  },
  {
   "cell_type": "code",
   "execution_count": 21,
   "id": "163310b2",
   "metadata": {},
   "outputs": [
    {
     "data": {
      "text/plain": [
       "[1, 2]"
      ]
     },
     "execution_count": 21,
     "metadata": {},
     "output_type": "execute_result"
    }
   ],
   "source": [
    "a = [1, 2, 3, 4, 5]\n",
    "del a[2:]\n",
    "a"
   ]
  },
  {
   "cell_type": "markdown",
   "id": "284ba7e2",
   "metadata": {},
   "source": [
    " - <h3>리스트 요소 제거(remove)</h3>"
   ]
  },
  {
   "cell_type": "code",
   "execution_count": 23,
   "id": "f34d3143",
   "metadata": {},
   "outputs": [
    {
     "data": {
      "text/plain": [
       "[1, 2, 1, 2, 3]"
      ]
     },
     "execution_count": 23,
     "metadata": {},
     "output_type": "execute_result"
    }
   ],
   "source": [
    "a = [1, 2, 3, 1, 2, 3]\n",
    "a.remove(3)\n",
    "a"
   ]
  },
  {
   "cell_type": "code",
   "execution_count": 24,
   "id": "b4f14f83",
   "metadata": {},
   "outputs": [
    {
     "data": {
      "text/plain": [
       "['a', 'c']"
      ]
     },
     "execution_count": 24,
     "metadata": {},
     "output_type": "execute_result"
    }
   ],
   "source": [
    "a = ['a','b','c']\n",
    "a.remove('b')\n",
    "a"
   ]
  },
  {
   "cell_type": "code",
   "execution_count": 25,
   "id": "4ebd54ee",
   "metadata": {},
   "outputs": [
    {
     "ename": "ValueError",
     "evalue": "list.remove(x): x not in list",
     "output_type": "error",
     "traceback": [
      "\u001b[1;31m---------------------------------------------------------------------------\u001b[0m",
      "\u001b[1;31mValueError\u001b[0m                                Traceback (most recent call last)",
      "\u001b[1;32m<ipython-input-25-73d530e00197>\u001b[0m in \u001b[0;36m<module>\u001b[1;34m\u001b[0m\n\u001b[0;32m      1\u001b[0m \u001b[0ma\u001b[0m \u001b[1;33m=\u001b[0m \u001b[1;33m[\u001b[0m\u001b[1;34m'a'\u001b[0m\u001b[1;33m,\u001b[0m\u001b[1;34m'b'\u001b[0m\u001b[1;33m,\u001b[0m\u001b[1;34m'c'\u001b[0m\u001b[1;33m]\u001b[0m\u001b[1;33m\u001b[0m\u001b[1;33m\u001b[0m\u001b[0m\n\u001b[1;32m----> 2\u001b[1;33m \u001b[0ma\u001b[0m\u001b[1;33m.\u001b[0m\u001b[0mremove\u001b[0m\u001b[1;33m(\u001b[0m\u001b[0ma\u001b[0m\u001b[1;33m[\u001b[0m\u001b[1;36m1\u001b[0m\u001b[1;33m:\u001b[0m\u001b[1;36m2\u001b[0m\u001b[1;33m]\u001b[0m\u001b[1;33m)\u001b[0m\u001b[1;33m\u001b[0m\u001b[1;33m\u001b[0m\u001b[0m\n\u001b[0m\u001b[0;32m      3\u001b[0m \u001b[0ma\u001b[0m\u001b[1;33m\u001b[0m\u001b[1;33m\u001b[0m\u001b[0m\n\u001b[0;32m      4\u001b[0m \u001b[1;31m## remove는 요소만 가능\u001b[0m\u001b[1;33m\u001b[0m\u001b[1;33m\u001b[0m\u001b[1;33m\u001b[0m\u001b[0m\n",
      "\u001b[1;31mValueError\u001b[0m: list.remove(x): x not in list"
     ]
    }
   ],
   "source": [
    "a = ['a','b','c']\n",
    "a.remove(a[1:2]) \n",
    "a\n",
    "## remove는 요소만 가능"
   ]
  },
  {
   "cell_type": "code",
   "execution_count": 28,
   "id": "00aca440",
   "metadata": {},
   "outputs": [
    {
     "data": {
      "text/plain": [
       "['a', 'b', [1, 2, 3, 5], 'c']"
      ]
     },
     "execution_count": 28,
     "metadata": {},
     "output_type": "execute_result"
    }
   ],
   "source": [
    "a = ['a','b',[1, 2, 3, 4, 5],'c']\n",
    "a[2].remove(4)\n",
    "a"
   ]
  },
  {
   "cell_type": "code",
   "execution_count": 29,
   "id": "551479d3",
   "metadata": {},
   "outputs": [
    {
     "data": {
      "text/plain": [
       "['a', 'b', [1, 2, 3, 5], 'c']"
      ]
     },
     "execution_count": 29,
     "metadata": {},
     "output_type": "execute_result"
    }
   ],
   "source": [
    "a = ['a','b',[1, 2, 3, 4, 5],'c']\n",
    "b = a[2]\n",
    "b.remove(b[3])\n",
    "a"
   ]
  },
  {
   "cell_type": "markdown",
   "id": "6f862c05",
   "metadata": {},
   "source": [
    " - <h3>리스트 요소 끄집어내기(pop)</h3>"
   ]
  },
  {
   "cell_type": "code",
   "execution_count": 31,
   "id": "91939c91",
   "metadata": {},
   "outputs": [
    {
     "data": {
      "text/plain": [
       "3"
      ]
     },
     "execution_count": 31,
     "metadata": {},
     "output_type": "execute_result"
    }
   ],
   "source": [
    "a = [1, 2, 3]\n",
    "a.pop()# 지운걸 알려줌"
   ]
  },
  {
   "cell_type": "code",
   "execution_count": 32,
   "id": "12d43e3c",
   "metadata": {},
   "outputs": [
    {
     "data": {
      "text/plain": [
       "2"
      ]
     },
     "execution_count": 32,
     "metadata": {},
     "output_type": "execute_result"
    }
   ],
   "source": [
    "a = [1, 2, 3]\n",
    "a.pop(1)# 지운걸 알려줌 del a[1]"
   ]
  },
  {
   "cell_type": "code",
   "execution_count": 34,
   "id": "f5215d23",
   "metadata": {},
   "outputs": [
    {
     "data": {
      "text/plain": [
       "3"
      ]
     },
     "execution_count": 34,
     "metadata": {},
     "output_type": "execute_result"
    }
   ],
   "source": [
    "a = [1, 2, 3]\n",
    "a.pop(a[1])# a[1]=2 a.pop(2) del a[2]"
   ]
  },
  {
   "cell_type": "markdown",
   "id": "3de70306",
   "metadata": {},
   "source": [
    " - <h3>리스트 추가</h3>"
   ]
  },
  {
   "cell_type": "markdown",
   "id": "17ce31a1",
   "metadata": {},
   "source": [
    " - \n",
    "  - <h4>리스트에 요소 추가(append)</h4>"
   ]
  },
  {
   "cell_type": "code",
   "execution_count": 35,
   "id": "84efbbde",
   "metadata": {},
   "outputs": [
    {
     "data": {
      "text/plain": [
       "[1, 2, 3, 'a']"
      ]
     },
     "execution_count": 35,
     "metadata": {},
     "output_type": "execute_result"
    }
   ],
   "source": [
    "a = [1, 2, 3]\n",
    "a.append('a')\n",
    "a"
   ]
  },
  {
   "cell_type": "markdown",
   "id": "f87351d7",
   "metadata": {},
   "source": [
    " - \n",
    "  - <h4>리스트에 요소 추가(append) 리스트.insert(입력할index, 값)</h4>"
   ]
  },
  {
   "cell_type": "code",
   "execution_count": 36,
   "id": "e9ba5241",
   "metadata": {},
   "outputs": [
    {
     "data": {
      "text/plain": [
       "[1, 2, 'a', 3]"
      ]
     },
     "execution_count": 36,
     "metadata": {},
     "output_type": "execute_result"
    }
   ],
   "source": [
    "a = [1, 2, 3]\n",
    "a.insert(2,'a')\n",
    "a"
   ]
  },
  {
   "cell_type": "markdown",
   "id": "a7afcc64",
   "metadata": {},
   "source": [
    " - \n",
    "  - <h4>'+' 연산자로 더하기</h4>"
   ]
  },
  {
   "cell_type": "code",
   "execution_count": 37,
   "id": "c79af15d",
   "metadata": {},
   "outputs": [
    {
     "data": {
      "text/plain": [
       "[1, 2, 3, 4, 5, 6]"
      ]
     },
     "execution_count": 37,
     "metadata": {},
     "output_type": "execute_result"
    }
   ],
   "source": [
    "a = [1, 2, 3]\n",
    "b = [4, 5, 6]\n",
    "a + b"
   ]
  },
  {
   "cell_type": "markdown",
   "id": "555ffb8b",
   "metadata": {},
   "source": [
    " - \n",
    "  - <h4>extend메소드 : 리스트.extend(추가할리스트)</h4>"
   ]
  },
  {
   "cell_type": "code",
   "execution_count": 38,
   "id": "23fb01ab",
   "metadata": {},
   "outputs": [
    {
     "data": {
      "text/plain": [
       "[1, 2, 3, 1, 2]"
      ]
     },
     "execution_count": 38,
     "metadata": {},
     "output_type": "execute_result"
    }
   ],
   "source": [
    "\n",
    "a = [1, 2, 3]\n",
    "a.extend([1, 2])\n",
    "a"
   ]
  },
  {
   "cell_type": "code",
   "execution_count": 39,
   "id": "a78b794e",
   "metadata": {},
   "outputs": [
    {
     "data": {
      "text/plain": [
       "[1, 2]"
      ]
     },
     "execution_count": 39,
     "metadata": {},
     "output_type": "execute_result"
    }
   ],
   "source": [
    "a = {1, 2}\n",
    "b = {1}\n",
    "list(a.union(b))"
   ]
  },
  {
   "cell_type": "markdown",
   "id": "5c77f734",
   "metadata": {},
   "source": [
    " - \n",
    "  - <h4>리스트 정렬(sort)</h4>"
   ]
  },
  {
   "cell_type": "code",
   "execution_count": 40,
   "id": "413554fc",
   "metadata": {},
   "outputs": [
    {
     "data": {
      "text/plain": [
       "[-2, 1, 2, 3, 4, 5, 6, 100, 200]"
      ]
     },
     "execution_count": 40,
     "metadata": {},
     "output_type": "execute_result"
    }
   ],
   "source": [
    "a = [100, 200, -2, 1, 2, 3, 4, 5, 6]\n",
    "a.sort()\n",
    "a"
   ]
  },
  {
   "cell_type": "code",
   "execution_count": 41,
   "id": "081878fe",
   "metadata": {},
   "outputs": [
    {
     "data": {
      "text/plain": [
       "['a', 'b', 'c']"
      ]
     },
     "execution_count": 41,
     "metadata": {},
     "output_type": "execute_result"
    }
   ],
   "source": [
    "a = ['a', 'c', 'b']\n",
    "a.sort()\n",
    "a"
   ]
  },
  {
   "cell_type": "code",
   "execution_count": 42,
   "id": "ec7f7d68",
   "metadata": {},
   "outputs": [
    {
     "data": {
      "text/plain": [
       "['a', '곰', '공', '성']"
      ]
     },
     "execution_count": 42,
     "metadata": {},
     "output_type": "execute_result"
    }
   ],
   "source": [
    "a = ['성', '공', '곰', 'a']\n",
    "a.sort()\n",
    "a"
   ]
  },
  {
   "cell_type": "markdown",
   "id": "7215d26f",
   "metadata": {},
   "source": [
    " - \n",
    "  - <h4>리스트 역순정렬</h4>"
   ]
  },
  {
   "cell_type": "code",
   "execution_count": 43,
   "id": "a0f22751",
   "metadata": {},
   "outputs": [
    {
     "data": {
      "text/plain": [
       "['성', '공', '곰', 'a']"
      ]
     },
     "execution_count": 43,
     "metadata": {},
     "output_type": "execute_result"
    }
   ],
   "source": [
    "a = ['성', '공', '곰', 'a']\n",
    "a.sort(reverse = True)\n",
    "a"
   ]
  },
  {
   "cell_type": "code",
   "execution_count": 44,
   "id": "a989ddec",
   "metadata": {},
   "outputs": [
    {
     "data": {
      "text/plain": [
       "['성', '공', '곰', 'a']"
      ]
     },
     "execution_count": 44,
     "metadata": {},
     "output_type": "execute_result"
    }
   ],
   "source": [
    "a = ['성', '공', '곰', 'a']\n",
    "a.sort(reverse=1)#0 이 false 1이 ture\n",
    "a"
   ]
  },
  {
   "cell_type": "markdown",
   "id": "0b6facd8",
   "metadata": {},
   "source": [
    " - \n",
    "  - <h4>리스트 뒤집기(reverse)</h4>\n",
    " "
   ]
  },
  {
   "cell_type": "code",
   "execution_count": 45,
   "id": "aba6c683",
   "metadata": {},
   "outputs": [
    {
     "data": {
      "text/plain": [
       "['a', '곰', '공', '성']"
      ]
     },
     "execution_count": 45,
     "metadata": {},
     "output_type": "execute_result"
    }
   ],
   "source": [
    "a = ['성', '공', '곰', 'a']\n",
    "a.reverse()\n",
    "a"
   ]
  },
  {
   "cell_type": "markdown",
   "id": "e7730f3a",
   "metadata": {},
   "source": [
    " - \n",
    "    - <h4>리스트에 포함된 요소 x의 개수 세기(count)</h4>"
   ]
  },
  {
   "cell_type": "code",
   "execution_count": 47,
   "id": "5392e317",
   "metadata": {},
   "outputs": [
    {
     "data": {
      "text/plain": [
       "16"
      ]
     },
     "execution_count": 47,
     "metadata": {},
     "output_type": "execute_result"
    }
   ],
   "source": [
    "a = ['성', '김', '공', '공', '공', '공', '공', '공', '공', '공', \n",
    "     '공', '공', '공', '공','공', '공', '공', '공']\n",
    "a.count('공')"
   ]
  }
 ],
 "metadata": {
  "kernelspec": {
   "display_name": "Python 3",
   "language": "python",
   "name": "python3"
  },
  "language_info": {
   "codemirror_mode": {
    "name": "ipython",
    "version": 3
   },
   "file_extension": ".py",
   "mimetype": "text/x-python",
   "name": "python",
   "nbconvert_exporter": "python",
   "pygments_lexer": "ipython3",
   "version": "3.8.6"
  }
 },
 "nbformat": 4,
 "nbformat_minor": 5
}
